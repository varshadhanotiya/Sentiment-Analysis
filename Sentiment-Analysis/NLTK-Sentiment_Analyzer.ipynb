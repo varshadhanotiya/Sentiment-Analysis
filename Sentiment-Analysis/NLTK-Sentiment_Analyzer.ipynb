{
 "cells": [
  {
   "cell_type": "code",
   "execution_count": 1,
   "metadata": {},
   "outputs": [],
   "source": [
    "import pandas as pd\n",
    "import string\n",
    "from nltk.tokenize import word_tokenize\n",
    "from nltk.corpus import stopwords\n",
    "from nltk.sentiment.vader import SentimentIntensityAnalyzer"
   ]
  },
  {
   "cell_type": "code",
   "execution_count": 2,
   "metadata": {},
   "outputs": [],
   "source": [
    "data = pd.read_csv(\"Data.csv\")\n",
    "data = data[data['score']!=3].reset_index(drop=True)\n",
    "data = data.dropna().reset_index(drop=True)"
   ]
  },
  {
   "cell_type": "code",
   "execution_count": 3,
   "metadata": {},
   "outputs": [],
   "source": [
    "#creating a column to check whether text is positive or negative\n",
    "#score>3 => positive\n",
    "#score<3 => negative\n",
    "\n",
    "def sentiment(score):\n",
    "    if(score>3):\n",
    "        return 1\n",
    "    else:\n",
    "        return -1\n",
    "    \n",
    "df = pd.DataFrame()\n",
    "df['text'] = data.iloc[:2000]['text']\n",
    "df['sentiment'] = data.iloc[:2000]['score'].apply(sentiment)\n",
    "df = df.reset_index(drop=True)"
   ]
  },
  {
   "cell_type": "code",
   "execution_count": 4,
   "metadata": {},
   "outputs": [],
   "source": [
    "#converting text in lower case and removing punctuatinos\n",
    "def lower(text):\n",
    "    text = text.translate(str.maketrans('','',string.punctuation))\n",
    "    return text.lower()\n",
    "\n",
    "df['text'] = df['text'].apply(lower)"
   ]
  },
  {
   "cell_type": "code",
   "execution_count": 5,
   "metadata": {},
   "outputs": [],
   "source": [
    "#Removing stopwords from text\n",
    "stopword = stopwords.words('english')\n",
    "#removing words which are used for both neg and pos response\n",
    "stopword.append(\"good\") \n",
    "stopword.append(\"chip\")\n",
    "stopword.append(\"chips\")\n",
    "def fun(text):\n",
    "    tokenized_words = word_tokenize(text)\n",
    "    l = []\n",
    "    for w in tokenized_words:\n",
    "        if w not in stopword:\n",
    "            l.append(w)\n",
    "    return ' '.join(l)\n",
    "\n",
    "df['text'] = df['text'].apply(fun)"
   ]
  },
  {
   "cell_type": "code",
   "execution_count": 6,
   "metadata": {},
   "outputs": [],
   "source": [
    "def sentiment(text):\n",
    "    score = SentimentIntensityAnalyzer().polarity_scores(text)\n",
    "    if(score['pos']>score['neg']):\n",
    "        return 1\n",
    "    elif(score['pos']<score['neg']):\n",
    "        return -1\n",
    "    else:\n",
    "        return 0"
   ]
  },
  {
   "cell_type": "code",
   "execution_count": 7,
   "metadata": {},
   "outputs": [],
   "source": [
    "neu=0\n",
    "count = 0\n",
    "for i in range(len(df['text'])):\n",
    "    pred = sentiment(df['text'][i])\n",
    "    if((pred == 1 and df['sentiment'][i]==1) or (pred==-1 and df['sentiment'][i]==-1)):\n",
    "        count+=1\n",
    "    elif(pred==0):\n",
    "        neu+=1"
   ]
  },
  {
   "cell_type": "code",
   "execution_count": 8,
   "metadata": {},
   "outputs": [
    {
     "name": "stdout",
     "output_type": "stream",
     "text": [
      "84.75%\n"
     ]
    }
   ],
   "source": [
    "accuracy = count*100/len(df['text'])\n",
    "print(f'{accuracy}%')"
   ]
  }
 ],
 "metadata": {
  "kernelspec": {
   "display_name": "Python 3",
   "language": "python",
   "name": "python3"
  },
  "language_info": {
   "codemirror_mode": {
    "name": "ipython",
    "version": 3
   },
   "file_extension": ".py",
   "mimetype": "text/x-python",
   "name": "python",
   "nbconvert_exporter": "python",
   "pygments_lexer": "ipython3",
   "version": "3.7.6"
  }
 },
 "nbformat": 4,
 "nbformat_minor": 4
}
