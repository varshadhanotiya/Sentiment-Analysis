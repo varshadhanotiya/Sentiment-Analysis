{
 "cells": [
  {
   "cell_type": "code",
   "execution_count": 1,
   "metadata": {},
   "outputs": [],
   "source": [
    "import pandas as pd"
   ]
  },
  {
   "cell_type": "code",
   "execution_count": 2,
   "metadata": {},
   "outputs": [],
   "source": [
    "#importing the cleaned data\n",
    "\n",
    "data = pd.read_csv(\"clean_data.csv\", converters = {\"words\" : eval})\n",
    "data = data.dropna().reset_index(drop=True)"
   ]
  },
  {
   "cell_type": "code",
   "execution_count": 3,
   "metadata": {},
   "outputs": [],
   "source": [
    "#dividing the data for training and testing\n",
    "\n",
    "train = data.iloc[:1500]\n",
    "test = data.iloc[1500:].reset_index(drop=True)"
   ]
  },
  {
   "cell_type": "code",
   "execution_count": 4,
   "metadata": {},
   "outputs": [],
   "source": [
    "#getting the list of words which represents positive and negative sentiment\n",
    "\n",
    "pos = []\n",
    "neg = []\n",
    "\n",
    "for i in range(len(train)):\n",
    "    if(train['sentiment'][i]==1):\n",
    "        for w in train['words'][i]:\n",
    "            pos.append(w)\n",
    "        for w in train['words'][i]:\n",
    "            pos.append(w)\n",
    "    elif(train['sentiment'][i]==-1):\n",
    "        for w in train['words'][i]:\n",
    "            neg.append(w)\n",
    "        for w in train['words'][i]:\n",
    "            neg.append(w)\n",
    "pos = list(set(pos))\n",
    "neg = list(set(neg))"
   ]
  },
  {
   "cell_type": "code",
   "execution_count": 5,
   "metadata": {},
   "outputs": [],
   "source": [
    "#removing the common words used show both positive and negative sentiment\n",
    "\n",
    "temp = []\n",
    "for w in neg:\n",
    "    if w in pos:\n",
    "        temp.append(w)\n",
    "        pos.remove(w)\n",
    "        neg.remove(w)"
   ]
  },
  {
   "cell_type": "code",
   "execution_count": 6,
   "metadata": {},
   "outputs": [],
   "source": [
    "#testing\n",
    "\n",
    "count = 0 \n",
    "for i in range(len(test['words'])):\n",
    "    sense=0\n",
    "    for w in test['words'][i]:\n",
    "        if w in pos:\n",
    "            sense+=1\n",
    "        elif w in neg:\n",
    "            sense-=1\n",
    "        \n",
    "    if((sense>0 and test['sentiment'][i]==1) or (sense<0 and test['sentiment'][i]==-1)):\n",
    "        count+=1"
   ]
  },
  {
   "cell_type": "code",
   "execution_count": 7,
   "metadata": {},
   "outputs": [
    {
     "name": "stdout",
     "output_type": "stream",
     "text": [
      "Accuracy =  65.81 %\n"
     ]
    }
   ],
   "source": [
    "acc = count*100/len(test['words'])\n",
    "print('Accuracy = ', round(acc,2),'%')"
   ]
  }
 ],
 "metadata": {
  "kernelspec": {
   "display_name": "Python 3",
   "language": "python",
   "name": "python3"
  },
  "language_info": {
   "codemirror_mode": {
    "name": "ipython",
    "version": 3
   },
   "file_extension": ".py",
   "mimetype": "text/x-python",
   "name": "python",
   "nbconvert_exporter": "python",
   "pygments_lexer": "ipython3",
   "version": "3.7.6"
  }
 },
 "nbformat": 4,
 "nbformat_minor": 4
}
