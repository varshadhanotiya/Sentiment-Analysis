{
 "cells": [
  {
   "cell_type": "code",
   "execution_count": 1,
   "metadata": {},
   "outputs": [],
   "source": [
    "import pandas as pd\n",
    "import string\n",
    "import nltk\n",
    "from nltk.tokenize import word_tokenize\n",
    "from nltk.corpus import stopwords\n",
    "from sklearn.feature_extraction.text import TfidfVectorizer\n",
    "from sklearn.model_selection import train_test_split\n",
    "from sklearn import naive_bayes"
   ]
  },
  {
   "cell_type": "code",
   "execution_count": 2,
   "metadata": {},
   "outputs": [],
   "source": [
    "#importing cleaned datadset\n",
    "\n",
    "data = pd.read_csv(\"clean_data.csv\" ,converters={'words': eval})"
   ]
  },
  {
   "cell_type": "code",
   "execution_count": 3,
   "metadata": {},
   "outputs": [],
   "source": [
    "#creating new Datafram by deleting rows with nan element\n",
    "\n",
    "df = data.dropna().copy()\n",
    "df = df.reset_index(drop=True)"
   ]
  },
  {
   "cell_type": "code",
   "execution_count": 4,
   "metadata": {},
   "outputs": [],
   "source": [
    "#creating set of all words \n",
    "\n",
    "ls = []\n",
    "for i in range(len(df)):\n",
    "    ls.extend(df['words'][i])\n",
    "\n",
    "all_words = set(ls)"
   ]
  },
  {
   "cell_type": "code",
   "execution_count": 5,
   "metadata": {},
   "outputs": [],
   "source": [
    "#arranging the data in input format of NaiveBayesClassifier \n",
    "\n",
    "l = []\n",
    "for i in range(len(df)):\n",
    "    d = {}\n",
    "    for w in all_words:\n",
    "        d[w] = (w in df['words'][i])\n",
    "    l.append((d, df['sentiment'][i]))"
   ]
  },
  {
   "cell_type": "code",
   "execution_count": 6,
   "metadata": {},
   "outputs": [],
   "source": [
    "#dividing the data in train and test\n",
    "\n",
    "train = l[500:]\n",
    "test = l[:500]"
   ]
  },
  {
   "cell_type": "code",
   "execution_count": 7,
   "metadata": {
    "scrolled": true
   },
   "outputs": [
    {
     "name": "stdout",
     "output_type": "stream",
     "text": [
      "Most Informative Features\n",
      "                    best = True                1 : -1     =     19.4 : 1.0\n",
      "                    dont = True               -1 : 1      =     17.1 : 1.0\n",
      "                   didnt = True               -1 : 1      =     14.9 : 1.0\n",
      "                    love = True                1 : -1     =     14.7 : 1.0\n",
      "                   bewar = True               -1 : 1      =     12.2 : 1.0\n",
      "                     can = True               -1 : 1      =     10.6 : 1.0\n",
      "                   great = True                1 : -1     =     10.6 : 1.0\n",
      "                    weak = True               -1 : 1      =      9.5 : 1.0\n",
      "                  packag = True               -1 : 1      =      9.5 : 1.0\n",
      "                standard = True               -1 : 1      =      9.5 : 1.0\n"
     ]
    }
   ],
   "source": [
    "#training the classifier\n",
    "\n",
    "classifier = nltk.NaiveBayesClassifier.train(train)\n",
    "classifier.show_most_informative_features()"
   ]
  },
  {
   "cell_type": "code",
   "execution_count": 8,
   "metadata": {},
   "outputs": [
    {
     "name": "stdout",
     "output_type": "stream",
     "text": [
      "Accuracy = 84.2%\n"
     ]
    }
   ],
   "source": [
    "acc = nltk.classify.accuracy(classifier, test)\n",
    "print(\"Accuracy = \" + f\"{round(acc,4)*100}\" + \"%\")"
   ]
  }
 ],
 "metadata": {
  "kernelspec": {
   "display_name": "Python 3",
   "language": "python",
   "name": "python3"
  },
  "language_info": {
   "codemirror_mode": {
    "name": "ipython",
    "version": 3
   },
   "file_extension": ".py",
   "mimetype": "text/x-python",
   "name": "python",
   "nbconvert_exporter": "python",
   "pygments_lexer": "ipython3",
   "version": "3.7.6"
  }
 },
 "nbformat": 4,
 "nbformat_minor": 4
}
